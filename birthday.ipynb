{
 "cells": [
  {
   "cell_type": "markdown",
   "id": "d7926524-82bc-4416-8a6c-bb30b3b44fc6",
   "metadata": {},
   "source": [
    "### Importing Package:"
   ]
  },
  {
   "cell_type": "code",
   "execution_count": 1,
   "id": "e54e5762-39cf-413a-968b-0388f84957e6",
   "metadata": {},
   "outputs": [],
   "source": [
    "from flask import Flask, request, redirect, render_template_string\n"
   ]
  },
  {
   "cell_type": "code",
   "execution_count": 22,
   "id": "dd4e6615-764f-4538-b5eb-7e9ecd57b439",
   "metadata": {},
   "outputs": [
    {
     "ename": "SyntaxError",
     "evalue": "invalid syntax (3747996709.py, line 2)",
     "output_type": "error",
     "traceback": [
      "\u001b[0;36m  Cell \u001b[0;32mIn[22], line 2\u001b[0;36m\u001b[0m\n\u001b[0;31m    cd ~/Desktop/Coding/Coding_Other\u001b[0m\n\u001b[0m       ^\u001b[0m\n\u001b[0;31mSyntaxError\u001b[0m\u001b[0;31m:\u001b[0m invalid syntax\n"
     ]
    }
   ],
   "source": [
    "# 1. Go to your Desktop Coding/Coding_Other folder\n",
    "cd ~/Desktop/Coding/Coding_Other\n",
    "\n",
    "# 2. (Optional) Make sure the folder exists\n",
    "mkdir -p ~/Desktop/Coding/Coding_Other\n",
    "\n",
    "# 3. Create a virtual environment inside it\n",
    "python3 -m venv .venv\n"
   ]
  },
  {
   "cell_type": "code",
   "execution_count": null,
   "id": "b669e09e-e09c-4459-8f19-5a15123d6021",
   "metadata": {},
   "outputs": [],
   "source": []
  },
  {
   "cell_type": "code",
   "execution_count": 11,
   "id": "21e48557-7265-4ff3-8416-072297e85410",
   "metadata": {},
   "outputs": [
    {
     "name": "stdout",
     "output_type": "stream",
     "text": [
      "\n",
      "👉 On your computer: http://127.0.0.1:5001\n",
      "👉 On your phone (same WiFi): http://127.0.0.1:5001\n",
      "\n",
      " * Serving Flask app '__main__'\n",
      " * Debug mode: on\n"
     ]
    },
    {
     "name": "stderr",
     "output_type": "stream",
     "text": [
      "WARNING: This is a development server. Do not use it in a production deployment. Use a production WSGI server instead.\n",
      " * Running on all addresses (0.0.0.0)\n",
      " * Running on http://127.0.0.1:5001\n",
      " * Running on http://192.168.178.108:5001\n",
      "Press CTRL+C to quit\n",
      " * Restarting with watchdog (fsevents)\n",
      "Traceback (most recent call last):\n",
      "  File \"/Users/arnoldpap/anaconda3/lib/python3.11/site-packages/ipykernel_launcher.py\", line 8, in <module>\n",
      "    from pathlib import Path\n",
      "  File \"/Users/arnoldpap/anaconda3/lib/python3.11/site-packages/pathlib.py\", line 10, in <module>\n",
      "    from collections import Sequence\n",
      "ImportError: cannot import name 'Sequence' from 'collections' (/Users/arnoldpap/anaconda3/lib/python3.11/collections/__init__.py)\n"
     ]
    },
    {
     "ename": "SystemExit",
     "evalue": "1",
     "output_type": "error",
     "traceback": [
      "An exception has occurred, use %tb to see the full traceback.\n",
      "\u001b[0;31mSystemExit\u001b[0m\u001b[0;31m:\u001b[0m 1\n"
     ]
    }
   ],
   "source": [
    "import socket\n",
    "from flask import Flask, request, redirect, render_template_string\n",
    "\n",
    "app = Flask(__name__)\n",
    "\n",
    "# Demo questions — replace or add more later\n",
    "questions = [\n",
    "    {\"q\": \"What has to be broken before you can use it?\", \"a\": \"egg\"},\n",
    "    {\"q\": \"I’m tall when I’m young, and short when I’m old. What am I?\", \"a\": \"candle\"}\n",
    "]\n",
    "\n",
    "@app.route(\"/\")\n",
    "def start():\n",
    "    return redirect(\"/question/0\")\n",
    "\n",
    "@app.route(\"/question/<int:q_id>\", methods=[\"GET\", \"POST\"])\n",
    "def question(q_id):\n",
    "    if q_id >= len(questions):\n",
    "        return \"🎉 You escaped!\"\n",
    "    \n",
    "    question = questions[q_id]\n",
    "    if request.method == \"POST\":\n",
    "        answer = request.form.get(\"answer\", \"\").strip().lower()\n",
    "        if answer == question[\"a\"]:\n",
    "            return redirect(f\"/question/{q_id+1}\")\n",
    "    \n",
    "    return render_template_string(\"\"\"\n",
    "        <h2>{{ question['q'] }}</h2>\n",
    "        <form method=\"post\">\n",
    "            <input type=\"text\" name=\"answer\" autofocus>\n",
    "            <input type=\"submit\" value=\"Submit\">\n",
    "        </form>\n",
    "    \"\"\", question=question)\n",
    "\n",
    "if __name__ == \"__main__\":\n",
    "    # Find your local IP so you can open it on your phone\n",
    "    hostname = socket.gethostname()\n",
    "    local_ip = socket.gethostbyname(hostname)\n",
    "\n",
    "    print(f\"\\n👉 On your computer: http://127.0.0.1:5001\")\n",
    "    print(f\"👉 On your phone (same WiFi): http://{local_ip}:5001\\n\")\n",
    "\n",
    "    app.run(host=\"0.0.0.0\", port=5001, debug=True)\n"
   ]
  },
  {
   "cell_type": "code",
   "execution_count": 7,
   "id": "6f962dee-eae3-4f78-abc4-ee5014f70ab8",
   "metadata": {},
   "outputs": [
    {
     "ename": "SyntaxError",
     "evalue": "invalid syntax (1464892864.py, line 1)",
     "output_type": "error",
     "traceback": [
      "\u001b[0;36m  Cell \u001b[0;32mIn[7], line 1\u001b[0;36m\u001b[0m\n\u001b[0;31m    ~/Desktop/Coding/Coding_Other/app.py\u001b[0m\n\u001b[0m     ^\u001b[0m\n\u001b[0;31mSyntaxError\u001b[0m\u001b[0;31m:\u001b[0m invalid syntax\n"
     ]
    }
   ],
   "source": [
    "~/Desktop/Coding/Coding_Other/app.py\n"
   ]
  },
  {
   "cell_type": "code",
   "execution_count": null,
   "id": "b643f0a6-5198-4533-b6f4-db09e08d4173",
   "metadata": {},
   "outputs": [],
   "source": []
  },
  {
   "cell_type": "code",
   "execution_count": 20,
   "id": "4ba8f91b-6bbc-4fe2-a134-5b7d13fb8f03",
   "metadata": {},
   "outputs": [],
   "source": [
    "# save this as app.py\n",
    "from flask import Flask\n",
    "\n",
    "app = Flask(__name__)\n",
    "\n",
    "@app.route(\"/\")\n",
    "def hello():\n",
    "    return \"Hello, World!\""
   ]
  },
  {
   "cell_type": "code",
   "execution_count": 21,
   "id": "3311174e-eb76-4d34-bbe6-a65c100ec7b0",
   "metadata": {},
   "outputs": [
    {
     "ename": "SyntaxError",
     "evalue": "invalid syntax (4294875619.py, line 1)",
     "output_type": "error",
     "traceback": [
      "\u001b[0;36m  Cell \u001b[0;32mIn[21], line 1\u001b[0;36m\u001b[0m\n\u001b[0;31m    * Running on http://127.0.0.1:5000/ (Press CTRL+C to quit)\u001b[0m\n\u001b[0m              ^\u001b[0m\n\u001b[0;31mSyntaxError\u001b[0m\u001b[0;31m:\u001b[0m invalid syntax\n"
     ]
    }
   ],
   "source": [
    "\n",
    "* Running on http://127.0.0.1:5000/ (Press CTRL+C to quit)"
   ]
  }
 ],
 "metadata": {
  "kernelspec": {
   "display_name": "Python 3 (ipykernel)",
   "language": "python",
   "name": "python3"
  },
  "language_info": {
   "codemirror_mode": {
    "name": "ipython",
    "version": 3
   },
   "file_extension": ".py",
   "mimetype": "text/x-python",
   "name": "python",
   "nbconvert_exporter": "python",
   "pygments_lexer": "ipython3",
   "version": "3.11.5"
  }
 },
 "nbformat": 4,
 "nbformat_minor": 5
}
